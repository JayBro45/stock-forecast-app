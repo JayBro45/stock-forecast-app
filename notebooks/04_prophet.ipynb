{
 "cells": [
  {
   "cell_type": "code",
   "execution_count": 1,
   "id": "8a6de8ce",
   "metadata": {},
   "outputs": [],
   "source": [
    "import numpy as np\n",
    "import pandas as pd\n",
    "from pathlib import Path"
   ]
  },
  {
   "cell_type": "code",
   "execution_count": 2,
   "id": "17edc7f7",
   "metadata": {},
   "outputs": [],
   "source": [
    "PROC = Path(\"../data/processed/AAPL_clean.csv\")\n",
    "df = pd.read_csv(PROC, parse_dates=[\"Date\"], index_col=\"Date\")"
   ]
  },
  {
   "cell_type": "code",
   "execution_count": 3,
   "id": "a075d853",
   "metadata": {},
   "outputs": [],
   "source": [
    "df=df.reset_index()[['Date', 'Close']].rename(columns={'Date': 'ds', 'Close': 'y'})"
   ]
  },
  {
   "cell_type": "code",
   "execution_count": 4,
   "id": "16c228f5",
   "metadata": {},
   "outputs": [
    {
     "data": {
      "text/html": [
       "<div>\n",
       "<style scoped>\n",
       "    .dataframe tbody tr th:only-of-type {\n",
       "        vertical-align: middle;\n",
       "    }\n",
       "\n",
       "    .dataframe tbody tr th {\n",
       "        vertical-align: top;\n",
       "    }\n",
       "\n",
       "    .dataframe thead th {\n",
       "        text-align: right;\n",
       "    }\n",
       "</style>\n",
       "<table border=\"1\" class=\"dataframe\">\n",
       "  <thead>\n",
       "    <tr style=\"text-align: right;\">\n",
       "      <th></th>\n",
       "      <th>ds</th>\n",
       "      <th>y</th>\n",
       "    </tr>\n",
       "  </thead>\n",
       "  <tbody>\n",
       "    <tr>\n",
       "      <th>0</th>\n",
       "      <td>2024-11-13</td>\n",
       "      <td>224.323669</td>\n",
       "    </tr>\n",
       "    <tr>\n",
       "      <th>1</th>\n",
       "      <td>2024-11-14</td>\n",
       "      <td>227.412720</td>\n",
       "    </tr>\n",
       "    <tr>\n",
       "      <th>2</th>\n",
       "      <td>2024-11-15</td>\n",
       "      <td>224.204086</td>\n",
       "    </tr>\n",
       "    <tr>\n",
       "      <th>3</th>\n",
       "      <td>2024-11-18</td>\n",
       "      <td>227.213409</td>\n",
       "    </tr>\n",
       "    <tr>\n",
       "      <th>4</th>\n",
       "      <td>2024-11-19</td>\n",
       "      <td>227.472488</td>\n",
       "    </tr>\n",
       "    <tr>\n",
       "      <th>...</th>\n",
       "      <td>...</td>\n",
       "      <td>...</td>\n",
       "    </tr>\n",
       "    <tr>\n",
       "      <th>196</th>\n",
       "      <td>2025-08-28</td>\n",
       "      <td>232.559998</td>\n",
       "    </tr>\n",
       "    <tr>\n",
       "      <th>197</th>\n",
       "      <td>2025-08-29</td>\n",
       "      <td>232.139999</td>\n",
       "    </tr>\n",
       "    <tr>\n",
       "      <th>198</th>\n",
       "      <td>2025-09-02</td>\n",
       "      <td>229.720001</td>\n",
       "    </tr>\n",
       "    <tr>\n",
       "      <th>199</th>\n",
       "      <td>2025-09-03</td>\n",
       "      <td>238.470001</td>\n",
       "    </tr>\n",
       "    <tr>\n",
       "      <th>200</th>\n",
       "      <td>2025-09-04</td>\n",
       "      <td>239.779999</td>\n",
       "    </tr>\n",
       "  </tbody>\n",
       "</table>\n",
       "<p>201 rows × 2 columns</p>\n",
       "</div>"
      ],
      "text/plain": [
       "            ds           y\n",
       "0   2024-11-13  224.323669\n",
       "1   2024-11-14  227.412720\n",
       "2   2024-11-15  224.204086\n",
       "3   2024-11-18  227.213409\n",
       "4   2024-11-19  227.472488\n",
       "..         ...         ...\n",
       "196 2025-08-28  232.559998\n",
       "197 2025-08-29  232.139999\n",
       "198 2025-09-02  229.720001\n",
       "199 2025-09-03  238.470001\n",
       "200 2025-09-04  239.779999\n",
       "\n",
       "[201 rows x 2 columns]"
      ]
     },
     "execution_count": 4,
     "metadata": {},
     "output_type": "execute_result"
    }
   ],
   "source": [
    "df"
   ]
  },
  {
   "cell_type": "code",
   "execution_count": 5,
   "id": "c0faa3c0",
   "metadata": {},
   "outputs": [],
   "source": [
    "split_point = int(len(df) * 0.8)\n",
    "train_df = df.iloc[:split_point]\n",
    "test_df = df.iloc[split_point:].copy()"
   ]
  },
  {
   "cell_type": "code",
   "execution_count": 6,
   "id": "78e61c0a",
   "metadata": {},
   "outputs": [
    {
     "name": "stderr",
     "output_type": "stream",
     "text": [
      "c:\\Users\\jayan\\AppData\\Local\\Programs\\Python\\Python312\\Lib\\site-packages\\lightning_fabric\\__init__.py:29: UserWarning: pkg_resources is deprecated as an API. See https://setuptools.pypa.io/en/latest/pkg_resources.html. The pkg_resources package is slated for removal as early as 2025-11-30. Refrain from using this package or pin to Setuptools<81.\n",
      "  __import__(\"pkg_resources\").declare_namespace(__name__)\n",
      "INFO - (NP.config.__post_init__) - Note: Trend changepoint regularization is experimental.\n",
      "WARNING - (NP.forecaster.fit) - When Global modeling with local normalization, metrics are displayed in normalized scale.\n",
      "WARNING - (py.warnings._showwarnmsg) - c:\\Users\\jayan\\AppData\\Local\\Programs\\Python\\Python312\\Lib\\site-packages\\neuralprophet\\df_utils.py:1152: FutureWarning: Series.view is deprecated and will be removed in a future version. Use ``astype`` as an alternative to change the dtype.\n",
      "  converted_ds = pd.to_datetime(ds_col, utc=True).view(dtype=np.int64)\n",
      "\n",
      "INFO - (NP.df_utils._infer_frequency) - Major frequency B corresponds to 93.125% of the data.\n",
      "WARNING - (py.warnings._showwarnmsg) - c:\\Users\\jayan\\AppData\\Local\\Programs\\Python\\Python312\\Lib\\site-packages\\neuralprophet\\df_utils.py:1152: FutureWarning: Series.view is deprecated and will be removed in a future version. Use ``astype`` as an alternative to change the dtype.\n",
      "  converted_ds = pd.to_datetime(ds_col, utc=True).view(dtype=np.int64)\n",
      "\n",
      "WARNING - (py.warnings._showwarnmsg) - c:\\Users\\jayan\\AppData\\Local\\Programs\\Python\\Python312\\Lib\\site-packages\\neuralprophet\\df_utils.py:1152: FutureWarning: Series.view is deprecated and will be removed in a future version. Use ``astype`` as an alternative to change the dtype.\n",
      "  converted_ds = pd.to_datetime(ds_col, utc=True).view(dtype=np.int64)\n",
      "\n",
      "INFO - (NP.df_utils._infer_frequency) - Defined frequency is equal to major frequency - B\n",
      "INFO - (NP.config.init_data_params) - Setting normalization to global as only one dataframe provided for training.\n",
      "INFO - (NP.config.set_auto_batch_epoch) - Auto-set batch_size to 16\n",
      "WARNING - (NP.config.set_lr_finder_args) - Learning rate finder: The number of batches (10) is too small than the required number                     for the learning rate finder (210). The results might not be optimal.\n"
     ]
    },
    {
     "data": {
      "application/vnd.jupyter.widget-view+json": {
       "model_id": "62d0e7517ce643caa5de6c3f488d882c",
       "version_major": 2,
       "version_minor": 0
      },
      "text/plain": [
       "Finding best initial lr:   0%|          | 0/210 [00:00<?, ?it/s]"
      ]
     },
     "metadata": {},
     "output_type": "display_data"
    },
    {
     "name": "stderr",
     "output_type": "stream",
     "text": [
      "WARNING - (py.warnings._showwarnmsg) - c:\\Users\\jayan\\AppData\\Local\\Programs\\Python\\Python312\\Lib\\site-packages\\lightning_fabric\\utilities\\cloud_io.py:51: FutureWarning: You are using `torch.load` with `weights_only=False` (the current default value), which uses the default pickle module implicitly. It is possible to construct malicious pickle data which will execute arbitrary code during unpickling (See https://github.com/pytorch/pytorch/blob/main/SECURITY.md#untrusted-models for more details). In a future release, the default value for `weights_only` will be flipped to `True`. This limits the functions that could be executed during unpickling. Arbitrary objects will no longer be allowed to be loaded via this mode unless they are explicitly allowlisted by the user via `torch.serialization.add_safe_globals`. We recommend you start setting `weights_only=True` for any use case where you don't have full control of the loaded file. Please open an issue on GitHub for any issues related to this experimental feature.\n",
      "  return torch.load(f, map_location=map_location)  # type: ignore[arg-type]\n",
      "\n"
     ]
    },
    {
     "data": {
      "application/vnd.jupyter.widget-view+json": {
       "model_id": "db93c20fab0147f1bd09d3228f720837",
       "version_major": 2,
       "version_minor": 0
      },
      "text/plain": [
       "Training: 0it [00:00, ?it/s]"
      ]
     },
     "metadata": {},
     "output_type": "display_data"
    }
   ],
   "source": [
    "from neuralprophet import NeuralProphet\n",
    "\n",
    "m = NeuralProphet(\n",
    "    yearly_seasonality=True,\n",
    "    weekly_seasonality=False,\n",
    "    daily_seasonality=False,\n",
    "    n_changepoints=30,\n",
    "    epochs=1000,\n",
    "    trend_reg=0.5,   # increase penalty on extreme trends\n",
    ")\n",
    "\n",
    "metrics=m.fit(train_df, freq='B')"
   ]
  },
  {
   "cell_type": "code",
   "execution_count": 7,
   "id": "3de1c72b",
   "metadata": {},
   "outputs": [
    {
     "name": "stderr",
     "output_type": "stream",
     "text": [
      "WARNING - (py.warnings._showwarnmsg) - c:\\Users\\jayan\\AppData\\Local\\Programs\\Python\\Python312\\Lib\\site-packages\\neuralprophet\\df_utils.py:1152: FutureWarning: Series.view is deprecated and will be removed in a future version. Use ``astype`` as an alternative to change the dtype.\n",
      "  converted_ds = pd.to_datetime(ds_col, utc=True).view(dtype=np.int64)\n",
      "\n",
      "INFO - (NP.df_utils._infer_frequency) - Major frequency B corresponds to 93.125% of the data.\n",
      "WARNING - (py.warnings._showwarnmsg) - c:\\Users\\jayan\\AppData\\Local\\Programs\\Python\\Python312\\Lib\\site-packages\\neuralprophet\\df_utils.py:1152: FutureWarning: Series.view is deprecated and will be removed in a future version. Use ``astype`` as an alternative to change the dtype.\n",
      "  converted_ds = pd.to_datetime(ds_col, utc=True).view(dtype=np.int64)\n",
      "\n",
      "WARNING - (py.warnings._showwarnmsg) - c:\\Users\\jayan\\AppData\\Local\\Programs\\Python\\Python312\\Lib\\site-packages\\neuralprophet\\df_utils.py:1152: FutureWarning: Series.view is deprecated and will be removed in a future version. Use ``astype`` as an alternative to change the dtype.\n",
      "  converted_ds = pd.to_datetime(ds_col, utc=True).view(dtype=np.int64)\n",
      "\n",
      "INFO - (NP.df_utils._infer_frequency) - Defined frequency is equal to major frequency - B\n",
      "INFO - (NP.df_utils.return_df_in_original_format) - Returning df with no ID column\n",
      "WARNING - (py.warnings._showwarnmsg) - c:\\Users\\jayan\\AppData\\Local\\Programs\\Python\\Python312\\Lib\\site-packages\\neuralprophet\\df_utils.py:1152: FutureWarning: Series.view is deprecated and will be removed in a future version. Use ``astype`` as an alternative to change the dtype.\n",
      "  converted_ds = pd.to_datetime(ds_col, utc=True).view(dtype=np.int64)\n",
      "\n",
      "INFO - (NP.df_utils._infer_frequency) - Major frequency B corresponds to 97.561% of the data.\n",
      "WARNING - (py.warnings._showwarnmsg) - c:\\Users\\jayan\\AppData\\Local\\Programs\\Python\\Python312\\Lib\\site-packages\\neuralprophet\\df_utils.py:1152: FutureWarning: Series.view is deprecated and will be removed in a future version. Use ``astype`` as an alternative to change the dtype.\n",
      "  converted_ds = pd.to_datetime(ds_col, utc=True).view(dtype=np.int64)\n",
      "\n",
      "WARNING - (py.warnings._showwarnmsg) - c:\\Users\\jayan\\AppData\\Local\\Programs\\Python\\Python312\\Lib\\site-packages\\neuralprophet\\df_utils.py:1152: FutureWarning: Series.view is deprecated and will be removed in a future version. Use ``astype`` as an alternative to change the dtype.\n",
      "  converted_ds = pd.to_datetime(ds_col, utc=True).view(dtype=np.int64)\n",
      "\n",
      "INFO - (NP.df_utils._infer_frequency) - Defined frequency is equal to major frequency - B\n",
      "WARNING - (py.warnings._showwarnmsg) - c:\\Users\\jayan\\AppData\\Local\\Programs\\Python\\Python312\\Lib\\site-packages\\neuralprophet\\df_utils.py:1152: FutureWarning: Series.view is deprecated and will be removed in a future version. Use ``astype`` as an alternative to change the dtype.\n",
      "  converted_ds = pd.to_datetime(ds_col, utc=True).view(dtype=np.int64)\n",
      "\n",
      "INFO - (NP.df_utils._infer_frequency) - Major frequency B corresponds to 97.561% of the data.\n",
      "WARNING - (py.warnings._showwarnmsg) - c:\\Users\\jayan\\AppData\\Local\\Programs\\Python\\Python312\\Lib\\site-packages\\neuralprophet\\df_utils.py:1152: FutureWarning: Series.view is deprecated and will be removed in a future version. Use ``astype`` as an alternative to change the dtype.\n",
      "  converted_ds = pd.to_datetime(ds_col, utc=True).view(dtype=np.int64)\n",
      "\n",
      "WARNING - (py.warnings._showwarnmsg) - c:\\Users\\jayan\\AppData\\Local\\Programs\\Python\\Python312\\Lib\\site-packages\\neuralprophet\\df_utils.py:1152: FutureWarning: Series.view is deprecated and will be removed in a future version. Use ``astype`` as an alternative to change the dtype.\n",
      "  converted_ds = pd.to_datetime(ds_col, utc=True).view(dtype=np.int64)\n",
      "\n",
      "INFO - (NP.df_utils._infer_frequency) - Defined frequency is equal to major frequency - B\n"
     ]
    },
    {
     "data": {
      "application/vnd.jupyter.widget-view+json": {
       "model_id": "2190bb44abe846dea6d26de71b6bf213",
       "version_major": 2,
       "version_minor": 0
      },
      "text/plain": [
       "Predicting: 10it [00:00, ?it/s]"
      ]
     },
     "metadata": {},
     "output_type": "display_data"
    },
    {
     "name": "stderr",
     "output_type": "stream",
     "text": [
      "INFO - (NP.df_utils.return_df_in_original_format) - Returning df with no ID column\n"
     ]
    }
   ],
   "source": [
    "future = m.make_future_dataframe(train_df, periods=len(test_df))\n",
    "forecast = m.predict(future)\n"
   ]
  },
  {
   "cell_type": "code",
   "execution_count": 8,
   "id": "d4f2efa3",
   "metadata": {},
   "outputs": [],
   "source": [
    "preds = forecast.set_index(\"ds\")[\"yhat1\"].iloc[-len(test_df):]"
   ]
  },
  {
   "cell_type": "code",
   "execution_count": 9,
   "id": "b5e31fed",
   "metadata": {},
   "outputs": [
    {
     "name": "stdout",
     "output_type": "stream",
     "text": [
      "MAE: 29.6816\n",
      "RMSE: 32.1871\n"
     ]
    }
   ],
   "source": [
    "from sklearn.metrics import mean_absolute_error, mean_squared_error\n",
    "y_true = test_df['y'].values   # actual values\n",
    "y_pred = forecast['yhat1'].iloc[-len(test_df):].values  # predicted values\n",
    "\n",
    "mae = mean_absolute_error(y_true, y_pred)\n",
    "rmse = np.sqrt(mean_squared_error(y_true, y_pred))\n",
    "\n",
    "print(f\"MAE: {mae:.4f}\")\n",
    "print(f\"RMSE: {rmse:.4f}\")\n"
   ]
  },
  {
   "cell_type": "code",
   "execution_count": 10,
   "id": "f0f66870",
   "metadata": {},
   "outputs": [
    {
     "data": {
      "image/png": "[encoded data removed]",
      "text/plain": [
       "<Figure size 1200x600 with 1 Axes>"
      ]
     },
     "metadata": {},
     "output_type": "display_data"
    }
   ],
   "source": [
    "import matplotlib.pyplot as plt\n",
    "plt.figure(figsize=(12,6))\n",
    "plt.plot(train_df[\"ds\"], train_df[\"y\"], label=\"Train\")\n",
    "plt.plot(test_df[\"ds\"], test_df[\"y\"], label=\"Test\", color=\"orange\")\n",
    "plt.plot(preds.index, preds.values, label=\"NeuralProphet Prediction\", color=\"green\", linestyle=\"--\")\n",
    "plt.title(\"NeuralProphet vs Actual\")\n",
    "plt.legend()\n",
    "plt.show()"
   ]
  },
  {
   "cell_type": "code",
   "execution_count": 11,
   "id": "3bed1e45",
   "metadata": {},
   "outputs": [
    {
     "name": "stdout",
     "output_type": "stream",
     "text": [
      "Metrics logged to ../data/models/mertics.csv\n"
     ]
    }
   ],
   "source": [
    "import sys\n",
    "sys.path.append(\"../\")\n",
    "from src.utils.logger import log_metrics\n",
    "log_metrics(\"NeuralProphet\", mae, rmse)"
   ]
  },
  {
   "cell_type": "code",
   "execution_count": null,
   "id": "f6bce0c9",
   "metadata": {},
   "outputs": [],
   "source": []
  }
 ],
 "metadata": {
  "kernelspec": {
   "display_name": "Python 3",
   "language": "python",
   "name": "python3"
  },
  "language_info": {
   "codemirror_mode": {
    "name": "ipython",
    "version": 3
   },
   "file_extension": ".py",
   "mimetype": "text/x-python",
   "name": "python",
   "nbconvert_exporter": "python",
   "pygments_lexer": "ipython3",
   "version": "3.12.4"
  }
 },
 "nbformat": 4,
 "nbformat_minor": 5
}
