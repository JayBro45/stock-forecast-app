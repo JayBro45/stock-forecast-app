{
 "cells": [
  {
   "cell_type": "code",
   "execution_count": 1,
   "id": "c56f8ee4",
   "metadata": {},
   "outputs": [],
   "source": [
    "import numpy as np\n",
    "import pandas as pd\n",
    "from pathlib import Path"
   ]
  },
  {
   "cell_type": "code",
   "execution_count": 2,
   "id": "6fb2d266",
   "metadata": {},
   "outputs": [
    {
     "data": {
      "text/html": [
       "<div>\n",
       "<style scoped>\n",
       "    .dataframe tbody tr th:only-of-type {\n",
       "        vertical-align: middle;\n",
       "    }\n",
       "\n",
       "    .dataframe tbody tr th {\n",
       "        vertical-align: top;\n",
       "    }\n",
       "\n",
       "    .dataframe thead th {\n",
       "        text-align: right;\n",
       "    }\n",
       "</style>\n",
       "<table border=\"1\" class=\"dataframe\">\n",
       "  <thead>\n",
       "    <tr style=\"text-align: right;\">\n",
       "      <th></th>\n",
       "      <th>Date</th>\n",
       "      <th>Close</th>\n",
       "      <th>High</th>\n",
       "      <th>Low</th>\n",
       "      <th>Open</th>\n",
       "      <th>Volume</th>\n",
       "      <th>Daily_Return</th>\n",
       "      <th>Log_Return</th>\n",
       "      <th>SMA_20</th>\n",
       "      <th>SMA_50</th>\n",
       "      <th>Volatility_10</th>\n",
       "      <th>DayOfWeek</th>\n",
       "    </tr>\n",
       "  </thead>\n",
       "  <tbody>\n",
       "    <tr>\n",
       "      <th>0</th>\n",
       "      <td>2017-11-27</td>\n",
       "      <td>40.809978</td>\n",
       "      <td>41.042054</td>\n",
       "      <td>40.634164</td>\n",
       "      <td>41.035022</td>\n",
       "      <td>82867200</td>\n",
       "      <td>-0.005030</td>\n",
       "      <td>-0.005042</td>\n",
       "      <td>40.277360</td>\n",
       "      <td>37.975310</td>\n",
       "      <td>0.010923</td>\n",
       "      <td>0</td>\n",
       "    </tr>\n",
       "    <tr>\n",
       "      <th>1</th>\n",
       "      <td>2017-11-28</td>\n",
       "      <td>40.570877</td>\n",
       "      <td>40.992828</td>\n",
       "      <td>40.287229</td>\n",
       "      <td>40.859211</td>\n",
       "      <td>105715200</td>\n",
       "      <td>-0.005859</td>\n",
       "      <td>-0.005876</td>\n",
       "      <td>40.358787</td>\n",
       "      <td>38.045488</td>\n",
       "      <td>0.011008</td>\n",
       "      <td>1</td>\n",
       "    </tr>\n",
       "    <tr>\n",
       "      <th>2</th>\n",
       "      <td>2017-11-29</td>\n",
       "      <td>39.729301</td>\n",
       "      <td>40.535703</td>\n",
       "      <td>39.185452</td>\n",
       "      <td>40.467723</td>\n",
       "      <td>166665600</td>\n",
       "      <td>-0.020743</td>\n",
       "      <td>-0.020962</td>\n",
       "      <td>40.371041</td>\n",
       "      <td>38.098553</td>\n",
       "      <td>0.011944</td>\n",
       "      <td>2</td>\n",
       "    </tr>\n",
       "    <tr>\n",
       "      <th>3</th>\n",
       "      <td>2017-11-30</td>\n",
       "      <td>40.284885</td>\n",
       "      <td>40.352865</td>\n",
       "      <td>39.485516</td>\n",
       "      <td>39.952007</td>\n",
       "      <td>166108800</td>\n",
       "      <td>0.013984</td>\n",
       "      <td>0.013887</td>\n",
       "      <td>40.436184</td>\n",
       "      <td>38.175157</td>\n",
       "      <td>0.011961</td>\n",
       "      <td>3</td>\n",
       "    </tr>\n",
       "    <tr>\n",
       "      <th>4</th>\n",
       "      <td>2017-12-01</td>\n",
       "      <td>40.097347</td>\n",
       "      <td>40.242686</td>\n",
       "      <td>39.499578</td>\n",
       "      <td>39.839485</td>\n",
       "      <td>159037200</td>\n",
       "      <td>-0.004655</td>\n",
       "      <td>-0.004666</td>\n",
       "      <td>40.477701</td>\n",
       "      <td>38.260530</td>\n",
       "      <td>0.011523</td>\n",
       "      <td>4</td>\n",
       "    </tr>\n",
       "    <tr>\n",
       "      <th>...</th>\n",
       "      <td>...</td>\n",
       "      <td>...</td>\n",
       "      <td>...</td>\n",
       "      <td>...</td>\n",
       "      <td>...</td>\n",
       "      <td>...</td>\n",
       "      <td>...</td>\n",
       "      <td>...</td>\n",
       "      <td>...</td>\n",
       "      <td>...</td>\n",
       "      <td>...</td>\n",
       "      <td>...</td>\n",
       "    </tr>\n",
       "    <tr>\n",
       "      <th>1957</th>\n",
       "      <td>2025-09-11</td>\n",
       "      <td>230.029999</td>\n",
       "      <td>230.449997</td>\n",
       "      <td>226.649994</td>\n",
       "      <td>226.880005</td>\n",
       "      <td>50208600</td>\n",
       "      <td>0.014286</td>\n",
       "      <td>0.014185</td>\n",
       "      <td>231.642999</td>\n",
       "      <td>220.563703</td>\n",
       "      <td>0.018844</td>\n",
       "      <td>3</td>\n",
       "    </tr>\n",
       "    <tr>\n",
       "      <th>1958</th>\n",
       "      <td>2025-09-12</td>\n",
       "      <td>234.070007</td>\n",
       "      <td>234.509995</td>\n",
       "      <td>229.020004</td>\n",
       "      <td>229.220001</td>\n",
       "      <td>55824200</td>\n",
       "      <td>0.017563</td>\n",
       "      <td>0.017411</td>\n",
       "      <td>231.707500</td>\n",
       "      <td>221.001120</td>\n",
       "      <td>0.019485</td>\n",
       "      <td>4</td>\n",
       "    </tr>\n",
       "    <tr>\n",
       "      <th>1959</th>\n",
       "      <td>2025-09-15</td>\n",
       "      <td>236.699997</td>\n",
       "      <td>238.190002</td>\n",
       "      <td>235.029999</td>\n",
       "      <td>237.000000</td>\n",
       "      <td>42699500</td>\n",
       "      <td>0.011236</td>\n",
       "      <td>0.011173</td>\n",
       "      <td>231.963000</td>\n",
       "      <td>221.468961</td>\n",
       "      <td>0.019725</td>\n",
       "      <td>0</td>\n",
       "    </tr>\n",
       "    <tr>\n",
       "      <th>1960</th>\n",
       "      <td>2025-09-16</td>\n",
       "      <td>238.149994</td>\n",
       "      <td>241.220001</td>\n",
       "      <td>236.320007</td>\n",
       "      <td>237.179993</td>\n",
       "      <td>63421100</td>\n",
       "      <td>0.006126</td>\n",
       "      <td>0.006107</td>\n",
       "      <td>232.325999</td>\n",
       "      <td>222.037722</td>\n",
       "      <td>0.019243</td>\n",
       "      <td>1</td>\n",
       "    </tr>\n",
       "    <tr>\n",
       "      <th>1961</th>\n",
       "      <td>2025-09-17</td>\n",
       "      <td>238.990005</td>\n",
       "      <td>240.100006</td>\n",
       "      <td>237.729996</td>\n",
       "      <td>238.970001</td>\n",
       "      <td>46435200</td>\n",
       "      <td>0.003527</td>\n",
       "      <td>0.003521</td>\n",
       "      <td>232.747500</td>\n",
       "      <td>222.622083</td>\n",
       "      <td>0.015041</td>\n",
       "      <td>2</td>\n",
       "    </tr>\n",
       "  </tbody>\n",
       "</table>\n",
       "<p>1962 rows × 12 columns</p>\n",
       "</div>"
      ],
      "text/plain": [
       "           Date       Close        High         Low        Open     Volume  \\\n",
       "0    2017-11-27   40.809978   41.042054   40.634164   41.035022   82867200   \n",
       "1    2017-11-28   40.570877   40.992828   40.287229   40.859211  105715200   \n",
       "2    2017-11-29   39.729301   40.535703   39.185452   40.467723  166665600   \n",
       "3    2017-11-30   40.284885   40.352865   39.485516   39.952007  166108800   \n",
       "4    2017-12-01   40.097347   40.242686   39.499578   39.839485  159037200   \n",
       "...         ...         ...         ...         ...         ...        ...   \n",
       "1957 2025-09-11  230.029999  230.449997  226.649994  226.880005   50208600   \n",
       "1958 2025-09-12  234.070007  234.509995  229.020004  229.220001   55824200   \n",
       "1959 2025-09-15  236.699997  238.190002  235.029999  237.000000   42699500   \n",
       "1960 2025-09-16  238.149994  241.220001  236.320007  237.179993   63421100   \n",
       "1961 2025-09-17  238.990005  240.100006  237.729996  238.970001   46435200   \n",
       "\n",
       "      Daily_Return  Log_Return      SMA_20      SMA_50  Volatility_10  \\\n",
       "0        -0.005030   -0.005042   40.277360   37.975310       0.010923   \n",
       "1        -0.005859   -0.005876   40.358787   38.045488       0.011008   \n",
       "2        -0.020743   -0.020962   40.371041   38.098553       0.011944   \n",
       "3         0.013984    0.013887   40.436184   38.175157       0.011961   \n",
       "4        -0.004655   -0.004666   40.477701   38.260530       0.011523   \n",
       "...            ...         ...         ...         ...            ...   \n",
       "1957      0.014286    0.014185  231.642999  220.563703       0.018844   \n",
       "1958      0.017563    0.017411  231.707500  221.001120       0.019485   \n",
       "1959      0.011236    0.011173  231.963000  221.468961       0.019725   \n",
       "1960      0.006126    0.006107  232.325999  222.037722       0.019243   \n",
       "1961      0.003527    0.003521  232.747500  222.622083       0.015041   \n",
       "\n",
       "      DayOfWeek  \n",
       "0             0  \n",
       "1             1  \n",
       "2             2  \n",
       "3             3  \n",
       "4             4  \n",
       "...         ...  \n",
       "1957          3  \n",
       "1958          4  \n",
       "1959          0  \n",
       "1960          1  \n",
       "1961          2  \n",
       "\n",
       "[1962 rows x 12 columns]"
      ]
     },
     "execution_count": 2,
     "metadata": {},
     "output_type": "execute_result"
    }
   ],
   "source": [
    "PROC = Path(\"../data/processed/AAPL_clean.csv\")\n",
    "df = pd.read_csv(PROC, parse_dates=[\"Date\"])\n",
    "df"
   ]
  },
  {
   "cell_type": "code",
   "execution_count": 3,
   "id": "d344e608",
   "metadata": {},
   "outputs": [],
   "source": [
    "train = df.iloc[:int(0.8*len(df))]\n",
    "test = df.iloc[int(0.8*len(df)):]"
   ]
  },
  {
   "cell_type": "code",
   "execution_count": 4,
   "id": "f2ddf42e",
   "metadata": {},
   "outputs": [
    {
     "name": "stderr",
     "output_type": "stream",
     "text": [
      "c:\\Users\\jayan\\AppData\\Local\\Programs\\Python\\Python312\\Lib\\site-packages\\lightning_fabric\\__init__.py:29: UserWarning: pkg_resources is deprecated as an API. See https://setuptools.pypa.io/en/latest/pkg_resources.html. The pkg_resources package is slated for removal as early as 2025-11-30. Refrain from using this package or pin to Setuptools<81.\n",
      "  __import__(\"pkg_resources\").declare_namespace(__name__)\n",
      "WARNING - (py.warnings._showwarnmsg) - c:\\Users\\jayan\\AppData\\Local\\Programs\\Python\\Python312\\Lib\\site-packages\\statsmodels\\tsa\\statespace\\sarimax.py:966: UserWarning: Non-stationary starting autoregressive parameters found. Using zeros as starting parameters.\n",
      "  warn('Non-stationary starting autoregressive parameters'\n",
      "\n",
      "WARNING - (py.warnings._showwarnmsg) - c:\\Users\\jayan\\AppData\\Local\\Programs\\Python\\Python312\\Lib\\site-packages\\statsmodels\\tsa\\statespace\\sarimax.py:978: UserWarning: Non-invertible starting MA parameters found. Using zeros as starting parameters.\n",
      "  warn('Non-invertible starting MA parameters found.'\n",
      "\n",
      "WARNING - (NP.forecaster.fit) - When Global modeling with local normalization, metrics are displayed in normalized scale.\n",
      "WARNING - (py.warnings._showwarnmsg) - c:\\Users\\jayan\\AppData\\Local\\Programs\\Python\\Python312\\Lib\\site-packages\\neuralprophet\\df_utils.py:1152: FutureWarning: Series.view is deprecated and will be removed in a future version. Use ``astype`` as an alternative to change the dtype.\n",
      "  converted_ds = pd.to_datetime(ds_col, utc=True).view(dtype=np.int64)\n",
      "\n",
      "INFO - (NP.df_utils._infer_frequency) - Major frequency B corresponds to 96.112% of the data.\n",
      "WARNING - (py.warnings._showwarnmsg) - c:\\Users\\jayan\\AppData\\Local\\Programs\\Python\\Python312\\Lib\\site-packages\\neuralprophet\\df_utils.py:1152: FutureWarning: Series.view is deprecated and will be removed in a future version. Use ``astype`` as an alternative to change the dtype.\n",
      "  converted_ds = pd.to_datetime(ds_col, utc=True).view(dtype=np.int64)\n",
      "\n",
      "WARNING - (py.warnings._showwarnmsg) - c:\\Users\\jayan\\AppData\\Local\\Programs\\Python\\Python312\\Lib\\site-packages\\neuralprophet\\df_utils.py:1152: FutureWarning: Series.view is deprecated and will be removed in a future version. Use ``astype`` as an alternative to change the dtype.\n",
      "  converted_ds = pd.to_datetime(ds_col, utc=True).view(dtype=np.int64)\n",
      "\n",
      "INFO - (NP.df_utils._infer_frequency) - Defined frequency is equal to major frequency - B\n",
      "INFO - (NP.config.init_data_params) - Setting normalization to global as only one dataframe provided for training.\n",
      "INFO - (NP.config.set_auto_batch_epoch) - Auto-set batch_size to 32\n",
      "WARNING - (NP.config.set_lr_finder_args) - Learning rate finder: The number of batches (50) is too small than the required number                     for the learning rate finder (230). The results might not be optimal.\n"
     ]
    },
    {
     "data": {
      "application/vnd.jupyter.widget-view+json": {
       "model_id": "c42e237b55c14fef98d632c1c0a97b0a",
       "version_major": 2,
       "version_minor": 0
      },
      "text/plain": [
       "Finding best initial lr:   0%|          | 0/230 [00:00<?, ?it/s]"
      ]
     },
     "metadata": {},
     "output_type": "display_data"
    },
    {
     "name": "stderr",
     "output_type": "stream",
     "text": [
      "WARNING - (py.warnings._showwarnmsg) - c:\\Users\\jayan\\AppData\\Local\\Programs\\Python\\Python312\\Lib\\site-packages\\lightning_fabric\\utilities\\cloud_io.py:51: FutureWarning: You are using `torch.load` with `weights_only=False` (the current default value), which uses the default pickle module implicitly. It is possible to construct malicious pickle data which will execute arbitrary code during unpickling (See https://github.com/pytorch/pytorch/blob/main/SECURITY.md#untrusted-models for more details). In a future release, the default value for `weights_only` will be flipped to `True`. This limits the functions that could be executed during unpickling. Arbitrary objects will no longer be allowed to be loaded via this mode unless they are explicitly allowlisted by the user via `torch.serialization.add_safe_globals`. We recommend you start setting `weights_only=True` for any use case where you don't have full control of the loaded file. Please open an issue on GitHub for any issues related to this experimental feature.\n",
      "  return torch.load(f, map_location=map_location)  # type: ignore[arg-type]\n",
      "\n"
     ]
    },
    {
     "data": {
      "application/vnd.jupyter.widget-view+json": {
       "model_id": "be20cd6280ab46aa9722fa1a63352956",
       "version_major": 2,
       "version_minor": 0
      },
      "text/plain": [
       "Training: 0it [00:00, ?it/s]"
      ]
     },
     "metadata": {},
     "output_type": "display_data"
    },
    {
     "name": "stderr",
     "output_type": "stream",
     "text": [
      "WARNING - (py.warnings._showwarnmsg) - c:\\Users\\jayan\\AppData\\Local\\Programs\\Python\\Python312\\Lib\\site-packages\\neuralprophet\\df_utils.py:1152: FutureWarning: Series.view is deprecated and will be removed in a future version. Use ``astype`` as an alternative to change the dtype.\n",
      "  converted_ds = pd.to_datetime(ds_col, utc=True).view(dtype=np.int64)\n",
      "\n",
      "INFO - (NP.df_utils._infer_frequency) - Major frequency B corresponds to 96.112% of the data.\n",
      "WARNING - (py.warnings._showwarnmsg) - c:\\Users\\jayan\\AppData\\Local\\Programs\\Python\\Python312\\Lib\\site-packages\\neuralprophet\\df_utils.py:1152: FutureWarning: Series.view is deprecated and will be removed in a future version. Use ``astype`` as an alternative to change the dtype.\n",
      "  converted_ds = pd.to_datetime(ds_col, utc=True).view(dtype=np.int64)\n",
      "\n",
      "WARNING - (py.warnings._showwarnmsg) - c:\\Users\\jayan\\AppData\\Local\\Programs\\Python\\Python312\\Lib\\site-packages\\neuralprophet\\df_utils.py:1152: FutureWarning: Series.view is deprecated and will be removed in a future version. Use ``astype`` as an alternative to change the dtype.\n",
      "  converted_ds = pd.to_datetime(ds_col, utc=True).view(dtype=np.int64)\n",
      "\n",
      "INFO - (NP.df_utils._infer_frequency) - Defined frequency is equal to major frequency - B\n",
      "INFO - (NP.df_utils.return_df_in_original_format) - Returning df with no ID column\n",
      "WARNING - (py.warnings._showwarnmsg) - c:\\Users\\jayan\\AppData\\Local\\Programs\\Python\\Python312\\Lib\\site-packages\\neuralprophet\\df_utils.py:1152: FutureWarning: Series.view is deprecated and will be removed in a future version. Use ``astype`` as an alternative to change the dtype.\n",
      "  converted_ds = pd.to_datetime(ds_col, utc=True).view(dtype=np.int64)\n",
      "\n",
      "INFO - (NP.df_utils._infer_frequency) - Major frequency B corresponds to 99.746% of the data.\n",
      "WARNING - (py.warnings._showwarnmsg) - c:\\Users\\jayan\\AppData\\Local\\Programs\\Python\\Python312\\Lib\\site-packages\\neuralprophet\\df_utils.py:1152: FutureWarning: Series.view is deprecated and will be removed in a future version. Use ``astype`` as an alternative to change the dtype.\n",
      "  converted_ds = pd.to_datetime(ds_col, utc=True).view(dtype=np.int64)\n",
      "\n",
      "WARNING - (py.warnings._showwarnmsg) - c:\\Users\\jayan\\AppData\\Local\\Programs\\Python\\Python312\\Lib\\site-packages\\neuralprophet\\df_utils.py:1152: FutureWarning: Series.view is deprecated and will be removed in a future version. Use ``astype`` as an alternative to change the dtype.\n",
      "  converted_ds = pd.to_datetime(ds_col, utc=True).view(dtype=np.int64)\n",
      "\n",
      "INFO - (NP.df_utils._infer_frequency) - Defined frequency is equal to major frequency - B\n",
      "WARNING - (py.warnings._showwarnmsg) - c:\\Users\\jayan\\AppData\\Local\\Programs\\Python\\Python312\\Lib\\site-packages\\neuralprophet\\df_utils.py:1152: FutureWarning: Series.view is deprecated and will be removed in a future version. Use ``astype`` as an alternative to change the dtype.\n",
      "  converted_ds = pd.to_datetime(ds_col, utc=True).view(dtype=np.int64)\n",
      "\n",
      "INFO - (NP.df_utils._infer_frequency) - Major frequency B corresponds to 99.746% of the data.\n",
      "WARNING - (py.warnings._showwarnmsg) - c:\\Users\\jayan\\AppData\\Local\\Programs\\Python\\Python312\\Lib\\site-packages\\neuralprophet\\df_utils.py:1152: FutureWarning: Series.view is deprecated and will be removed in a future version. Use ``astype`` as an alternative to change the dtype.\n",
      "  converted_ds = pd.to_datetime(ds_col, utc=True).view(dtype=np.int64)\n",
      "\n",
      "WARNING - (py.warnings._showwarnmsg) - c:\\Users\\jayan\\AppData\\Local\\Programs\\Python\\Python312\\Lib\\site-packages\\neuralprophet\\df_utils.py:1152: FutureWarning: Series.view is deprecated and will be removed in a future version. Use ``astype`` as an alternative to change the dtype.\n",
      "  converted_ds = pd.to_datetime(ds_col, utc=True).view(dtype=np.int64)\n",
      "\n",
      "INFO - (NP.df_utils._infer_frequency) - Defined frequency is equal to major frequency - B\n"
     ]
    },
    {
     "data": {
      "application/vnd.jupyter.widget-view+json": {
       "model_id": "72893a04f0164894a55a95e8cfe6e9a0",
       "version_major": 2,
       "version_minor": 0
      },
      "text/plain": [
       "Predicting: 50it [00:00, ?it/s]"
      ]
     },
     "metadata": {},
     "output_type": "display_data"
    },
    {
     "name": "stderr",
     "output_type": "stream",
     "text": [
      "INFO - (NP.df_utils.return_df_in_original_format) - Returning df with no ID column\n"
     ]
    },
    {
     "name": "stdout",
     "output_type": "stream",
     "text": [
      "{'MAE': 33.28089912550441, 'RMSE': 37.59815370101214}\n"
     ]
    }
   ],
   "source": [
    "import sys\n",
    "sys.path.append(\"../\")\n",
    "from src.models.baseline import NaiveBaselineModel\n",
    "from src.models.arima import ArimaModel\n",
    "from src.models.neuralprophet import NeuralProphetModel\n",
    "\n",
    "forecast, metrics = NaiveBaselineModel(train, test, save_dir=\"../data/models/naive_baseline\")\n",
    "\n",
    "forecast1, metrics1 = ArimaModel(train, test, save_dir=\"../data/models/arima\")\n",
    "\n",
    "forecast2, metrics2 = NeuralProphetModel(train, test, save_dir=\"../data/models/neuralprophet\")\n",
    "\n",
    "print(metrics)"
   ]
  },
  {
   "cell_type": "code",
   "execution_count": 5,
   "id": "9ba6bbe8",
   "metadata": {},
   "outputs": [
    {
     "name": "stdout",
     "output_type": "stream",
     "text": [
      "{'MAE': 19.62873005682133, 'RMSE': 22.65942455136914}\n",
      "{'MAE': 17.74282355466265, 'RMSE': 20.00534767439613}\n"
     ]
    }
   ],
   "source": [
    "print(metrics1)\n",
    "print(metrics2)"
   ]
  },
  {
   "cell_type": "code",
   "execution_count": 10,
   "id": "59fa2685",
   "metadata": {},
   "outputs": [
    {
     "name": "stdout",
     "output_type": "stream",
     "text": [
      "Metrics logged to ../data/models/mertics.csv\n",
      "Metrics logged to ../data/models/mertics.csv\n",
      "Metrics logged to ../data/models/mertics.csv\n"
     ]
    }
   ],
   "source": [
    "import sys\n",
    "sys.path.append(\"../\")\n",
    "from src.utils.logger import log_metrics\n",
    "log_metrics(\"NaiveBaselineModel\", metrics['MAE'], metrics['RMSE'])\n",
    "log_metrics(\"ArimaModel\", metrics1['MAE'], metrics1['RMSE'])\n",
    "log_metrics(\"NeuralProphetModel\", metrics2['MAE'], metrics2['RMSE'])"
   ]
  },
  {
   "cell_type": "code",
   "execution_count": 9,
   "id": "6f2ff009",
   "metadata": {},
   "outputs": [
    {
     "data": {
      "text/plain": [
       "33.28089912550441"
      ]
     },
     "execution_count": 9,
     "metadata": {},
     "output_type": "execute_result"
    }
   ],
   "source": [
    "metrics['MAE']"
   ]
  },
  {
   "cell_type": "code",
   "execution_count": null,
   "id": "8600c22a",
   "metadata": {},
   "outputs": [],
   "source": []
  }
 ],
 "metadata": {
  "kernelspec": {
   "display_name": "Python 3",
   "language": "python",
   "name": "python3"
  },
  "language_info": {
   "codemirror_mode": {
    "name": "ipython",
    "version": 3
   },
   "file_extension": ".py",
   "mimetype": "text/x-python",
   "name": "python",
   "nbconvert_exporter": "python",
   "pygments_lexer": "ipython3",
   "version": "3.12.4"
  }
 },
 "nbformat": 4,
 "nbformat_minor": 5
}
